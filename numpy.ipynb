{
  "nbformat": 4,
  "nbformat_minor": 0,
  "metadata": {
    "colab": {
      "provenance": []
    },
    "kernelspec": {
      "name": "python3",
      "display_name": "Python 3"
    },
    "language_info": {
      "name": "python"
    }
  },
  "cells": [
    {
      "cell_type": "markdown",
      "source": [
        "Q.1) SOLITION BELOW"
      ],
      "metadata": {
        "id": "1ohTv8Ze2eZm"
      }
    },
    {
      "cell_type": "markdown",
      "source": [
        "NumPy (Numerical Python) is a foundational library in Python that provides a high-performance, multidimensional array object and tools for working with these arrays. It’s widely used in scientific computing, data analysis, and machine learning. Here’s how NumPy enhances Python’s capabilities:\n",
        "\n",
        "1. Efficient Multidimensional Arrays\n",
        "Purpose: At the core of NumPy is the ndarray (n-dimensional array), a fast, flexible container for large datasets.\n",
        "Advantages: NumPy arrays are much more memory-efficient and perform faster for operations than standard Python lists, especially for large data sets, because they store data in contiguous memory blocks and have fewer memory allocations.\n",
        "2. Performance and Speed\n",
        "Purpose: NumPy leverages highly optimized C and Fortran code for mathematical operations.\n",
        "Advantages: Operations on NumPy arrays can be up to 10-100x faster than equivalent operations on standard Python lists. This efficiency makes NumPy suitable for scientific applications that require heavy computation.\n",
        "3. Vectorization and Broadcasting\n",
        "Purpose: NumPy enables vectorized operations, which apply operations to entire arrays rather than needing explicit loops.\n",
        "Advantages: Vectorization and broadcasting lead to cleaner, more concise code and often avoid the need for looping, which reduces execution time. Broadcasting allows operations on arrays of different shapes without extensive reshaping, adding flexibility in computations.\n",
        "4. Mathematical Functions and Statistical Tools\n",
        "Purpose: NumPy provides a large library of mathematical functions (e.g., trigonometric, logarithmic) and statistical functions.\n",
        "Advantages: This extensive function library enables quick, reliable calculations over entire arrays or subsets, aiding in data analysis and statistical tasks directly within Python.\n",
        "5. Interoperability with Other Libraries\n",
        "Purpose: Many libraries for scientific computing (e.g., SciPy, pandas, scikit-learn) are built on top of NumPy.\n",
        "Advantages: This interoperability ensures consistency and enables easy integration of specialized tools with NumPy arrays, allowing a seamless flow in complex data workflows.\n",
        "6. Support for Linear Algebra and Random Sampling\n",
        "Purpose: NumPy includes built-in functions for linear algebra (e.g., matrix operations, eigenvalues) and random sampling (e.g., generating random numbers from various distributions).\n",
        "Advantages: These features are essential for machine learning, statistical analysis, and simulations, making NumPy a comprehensive tool for scientific computing."
      ],
      "metadata": {
        "id": "cgYKxdNu2jKD"
      }
    },
    {
      "cell_type": "markdown",
      "source": [
        "Q.2) SOLUTION BELOW."
      ],
      "metadata": {
        "id": "i4Oj1KLt6JnM"
      }
    },
    {
      "cell_type": "markdown",
      "source": [
        "Both np.mean() and np.average() are used to calculate the average of values in a NumPy array, but they have distinct features and use cases:\n",
        "\n",
        "1. np.mean()\n",
        "Purpose: np.mean() calculates the arithmetic mean (simple average) of elements along a specified axis.\n",
        "Syntax: np.mean(array, axis=None, dtype=None, out=None)\n",
        "Key Feature: np.mean() does not support weighted averages; it treats each element with equal weight.\n",
        "\n",
        "\n",
        "Example"
      ],
      "metadata": {
        "id": "80FF7WS26Mp2"
      }
    },
    {
      "cell_type": "code",
      "execution_count": null,
      "metadata": {
        "id": "ShitJmkK2XHs"
      },
      "outputs": [],
      "source": [
        "import numpy as np\n",
        "array = np.array([1, 2, 3, 4])\n",
        "mean = np.mean(array)"
      ]
    },
    {
      "cell_type": "markdown",
      "source": [
        "When to Use: Use np.mean() when you want the simple average of an array and do not need to apply different weights to elements.\n",
        "2. np.average()\n",
        "Purpose: np.average() calculates a weighted average of the elements.\n",
        "Syntax: np.average(array, axis=None, weights=None, returned=False)\n",
        "Key Feature: It has an optional weights parameter, allowing you to assign different weights to elements in the calculation.\n",
        "If weights is not provided, it behaves like np.mean() and calculates the simple average.\n",
        "\n",
        "Example"
      ],
      "metadata": {
        "id": "oSnG5AOb6eeR"
      }
    },
    {
      "cell_type": "code",
      "source": [
        "array = np.array([1, 2, 3, 4])\n",
        "weights = np.array([1, 2, 3, 4])  # Heavier weights for larger values\n",
        "weighted_avg = np.average(array, weights=weights)"
      ],
      "metadata": {
        "id": "XvvwgB4X6U4X"
      },
      "execution_count": null,
      "outputs": []
    },
    {
      "cell_type": "markdown",
      "source": [
        "Q.3) SOLUTION BELOW"
      ],
      "metadata": {
        "id": "X7CbWJvz62Gx"
      }
    },
    {
      "cell_type": "markdown",
      "source": [
        "In NumPy, arrays can be reversed along various axes using slicing, functions, and specific methods. Here are several methods to reverse NumPy arrays, with examples for both 1D and 2D arrays.\n",
        "\n",
        "Reversing a 1D Array\n",
        "\n",
        "\n",
        "Using Slicing"
      ],
      "metadata": {
        "id": "I1Y5YLeR65UY"
      }
    },
    {
      "cell_type": "code",
      "source": [
        "import numpy as np\n",
        "\n",
        "arr = np.array([1, 2, 3, 4, 5])\n",
        "reversed_arr = arr[::-1]\n",
        "print(reversed_arr)"
      ],
      "metadata": {
        "colab": {
          "base_uri": "https://localhost:8080/"
        },
        "id": "O4hhPFgL6nTv",
        "outputId": "ed0b9cda-61a9-4de3-908c-950068098421"
      },
      "execution_count": null,
      "outputs": [
        {
          "output_type": "stream",
          "name": "stdout",
          "text": [
            "[5 4 3 2 1]\n"
          ]
        }
      ]
    },
    {
      "cell_type": "markdown",
      "source": [
        "Using np.flip()"
      ],
      "metadata": {
        "id": "Ite2uZtF73Z2"
      }
    },
    {
      "cell_type": "code",
      "source": [
        "reversed_arr = np.flip(arr)\n",
        "print(reversed_arr)"
      ],
      "metadata": {
        "colab": {
          "base_uri": "https://localhost:8080/"
        },
        "id": "52bV0GmP71-o",
        "outputId": "6c2416ec-d01c-4c4a-82de-be1023f74dd7"
      },
      "execution_count": null,
      "outputs": [
        {
          "output_type": "stream",
          "name": "stdout",
          "text": [
            "[5 4 3 2 1]\n"
          ]
        }
      ]
    },
    {
      "cell_type": "markdown",
      "source": [
        " Both methods reverse the 1D array entirely.\n",
        "\n",
        "\n",
        " Reversing a 2D Array\n",
        "For 2D arrays, you can reverse along different axes: row-wise, column-wise, or both.\n",
        "\n",
        "Reversing Entire Array (Both Axes)\n",
        "\n",
        "This reverses the entire 2D array, flipping both rows and columns."
      ],
      "metadata": {
        "id": "YK2J_WvE8AhA"
      }
    },
    {
      "cell_type": "code",
      "source": [
        "arr_2d = np.array([[1, 2, 3], [4, 5, 6], [7, 8, 9]])\n",
        "reversed_arr = np.flip(arr_2d)\n",
        "print(reversed_arr)"
      ],
      "metadata": {
        "colab": {
          "base_uri": "https://localhost:8080/"
        },
        "id": "R2S9cP1P78zg",
        "outputId": "af448d04-852f-4c78-c19e-226ae0f8a6e5"
      },
      "execution_count": null,
      "outputs": [
        {
          "output_type": "stream",
          "name": "stdout",
          "text": [
            "[[9 8 7]\n",
            " [6 5 4]\n",
            " [3 2 1]]\n"
          ]
        }
      ]
    },
    {
      "cell_type": "markdown",
      "source": [
        "Reversing Along Rows (Axis 1)\n",
        "\n",
        "This flips each row independently, so columns are reversed."
      ],
      "metadata": {
        "id": "ZFYigKKU8P7U"
      }
    },
    {
      "cell_type": "code",
      "source": [
        "reversed_columns = np.flip(arr_2d, axis=1)\n",
        "print(reversed_columns)"
      ],
      "metadata": {
        "colab": {
          "base_uri": "https://localhost:8080/"
        },
        "id": "GP2WZ-BE8Ie-",
        "outputId": "c37291f2-a4fd-42fa-885e-849bda83510b"
      },
      "execution_count": null,
      "outputs": [
        {
          "output_type": "stream",
          "name": "stdout",
          "text": [
            "[[3 2 1]\n",
            " [6 5 4]\n",
            " [9 8 7]]\n"
          ]
        }
      ]
    },
    {
      "cell_type": "markdown",
      "source": [
        "Reversing Along Columns (Axis 0)\n",
        "\n",
        "This flips each column independently, so rows are reversed"
      ],
      "metadata": {
        "id": "edDPaDAc8Xyw"
      }
    },
    {
      "cell_type": "code",
      "source": [
        "reversed_rows = np.flip(arr_2d, axis=0)\n",
        "print(reversed_rows)"
      ],
      "metadata": {
        "colab": {
          "base_uri": "https://localhost:8080/"
        },
        "id": "yfHElD0S8S67",
        "outputId": "add2f709-b30d-4576-bbc5-3abb6e8f4de6"
      },
      "execution_count": null,
      "outputs": [
        {
          "output_type": "stream",
          "name": "stdout",
          "text": [
            "[[7 8 9]\n",
            " [4 5 6]\n",
            " [1 2 3]]\n"
          ]
        }
      ]
    },
    {
      "cell_type": "markdown",
      "source": [
        "Using Slicing for 2D Arrays\n",
        "\n",
        "Slicing can be used similarly, where [::-1] reverses the array along the specified axis."
      ],
      "metadata": {
        "id": "luNP2HSl8cY8"
      }
    },
    {
      "cell_type": "code",
      "source": [
        "reversed_columns = arr_2d[:, ::-1]  # Reverse columns\n",
        "reversed_rows = arr_2d[::-1, :]    # Reverse rows\n",
        "print(reversed_columns)\n",
        "print(reversed_rows)"
      ],
      "metadata": {
        "colab": {
          "base_uri": "https://localhost:8080/"
        },
        "id": "xNcB8xHJ8bkU",
        "outputId": "b1ac9909-f2f8-418e-c632-59c9484b8788"
      },
      "execution_count": null,
      "outputs": [
        {
          "output_type": "stream",
          "name": "stdout",
          "text": [
            "[[3 2 1]\n",
            " [6 5 4]\n",
            " [9 8 7]]\n",
            "[[7 8 9]\n",
            " [4 5 6]\n",
            " [1 2 3]]\n"
          ]
        }
      ]
    },
    {
      "cell_type": "markdown",
      "source": [
        "Q.4) SOLUTION BELOW."
      ],
      "metadata": {
        "id": "vWjI2CTR8j5T"
      }
    },
    {
      "cell_type": "markdown",
      "source": [
        "In NumPy, you can determine the data type of elements in an array using the .dtype attribute. This attribute provides information about the data type of the elements contained within the array. Here's how you can use it:\n",
        "\n",
        "Determining the Data Type of a NumPy Array\n",
        "\n",
        "\n",
        "Creating a NumPy Array"
      ],
      "metadata": {
        "id": "kkACHoX-8pgn"
      }
    },
    {
      "cell_type": "code",
      "source": [
        "import numpy as np\n",
        "\n",
        "# Create an array\n",
        "arr = np.array([1, 2, 3, 4])\n",
        "print(arr.dtype)"
      ],
      "metadata": {
        "colab": {
          "base_uri": "https://localhost:8080/"
        },
        "id": "F9nCGGSm8in3",
        "outputId": "9c16ac12-487d-42e1-c9a9-2ebc7b777283"
      },
      "execution_count": null,
      "outputs": [
        {
          "output_type": "stream",
          "name": "stdout",
          "text": [
            "int64\n"
          ]
        }
      ]
    },
    {
      "cell_type": "markdown",
      "source": [
        "Creating Arrays with Specific Data Types You can also specify the data type when creating an array:"
      ],
      "metadata": {
        "id": "HnYRtxAV-EWO"
      }
    },
    {
      "cell_type": "code",
      "source": [
        "arr_float = np.array([1, 2, 3, 4], dtype=float)\n",
        "print(arr_float.dtype)"
      ],
      "metadata": {
        "colab": {
          "base_uri": "https://localhost:8080/"
        },
        "id": "RUGmmS27-BVS",
        "outputId": "3d819e3d-e0b3-402e-8c5f-d6eb2ae30798"
      },
      "execution_count": null,
      "outputs": [
        {
          "output_type": "stream",
          "name": "stdout",
          "text": [
            "float64\n"
          ]
        }
      ]
    },
    {
      "cell_type": "markdown",
      "source": [
        "Checking the Data Type of Existing Arrays"
      ],
      "metadata": {
        "id": "ylrBw408-Kg9"
      }
    },
    {
      "cell_type": "code",
      "source": [
        "arr_str = np.array(['a', 'b', 'c'])\n",
        "print(arr_str.dtype)"
      ],
      "metadata": {
        "colab": {
          "base_uri": "https://localhost:8080/"
        },
        "id": "PkRs8FE7-H7o",
        "outputId": "1b8f5688-b1fe-4c7a-a32b-fbc3594e24e1"
      },
      "execution_count": null,
      "outputs": [
        {
          "output_type": "stream",
          "name": "stdout",
          "text": [
            "<U1\n"
          ]
        }
      ]
    },
    {
      "cell_type": "markdown",
      "source": [
        "Importance of Data Types in Memory Management and Performance\n",
        "Memory Efficiency\n",
        "\n",
        "Different data types consume different amounts of memory. For instance, an int32 uses 4 bytes, while an int64 uses 8 bytes. Using smaller data types can significantly reduce memory usage, especially for large arrays. This is crucial in scenarios where memory is limited or when handling large datasets."
      ],
      "metadata": {
        "id": "eXqYVYV9-Qnj"
      }
    },
    {
      "cell_type": "markdown",
      "source": [
        "Q.5) SOLUTION BELOW"
      ],
      "metadata": {
        "id": "RMN3ptmG-UeU"
      }
    },
    {
      "cell_type": "markdown",
      "source": [
        "In NumPy, an ndarray (N-dimensional array) is the central data structure. It is a homogeneous array that can hold elements of the same data type and allows for efficient numerical operations on large data sets.\n",
        "\n",
        "Key Features of ndarray in NumPy\n",
        "\n",
        "Homogeneity: All elements in an ndarray must be of the same data type (e.g., all integers or all floats), which allows for fast computations and reduced memory usage.\n",
        "\n",
        "Fixed Size: Once an ndarray is created, its size cannot be changed. This immutability enables better performance as the memory layout can be optimized.\n",
        "Multidimensional: ndarray objects can have any number of dimensions, making them suitable for working with multi-dimensional data (e.g., 1D arrays for vectors, 2D arrays for matrices, and higher dimensions for tensors).\n",
        "\n",
        "Efficient Operations: NumPy supports element-wise operations and broadcasting, which allows operations on arrays of different shapes without explicit looping. These features make operations faster compared to standard Python structures.\n",
        "\n",
        "Built-in Mathematical Functions: NumPy provides a range of optimized mathematical functions (e.g., linear algebra, statistical operations) that can be applied directly to ndarray objects, enabling high-performance scientific computing.\n",
        "\n",
        "\n",
        "Differences Between ndarray and Standard Python Lists\n",
        "Data Type Consistency: Python lists can contain elements of mixed data types, while ndarrays are homogeneous, holding elements of a single data type.\n",
        "\n",
        "Memory Efficiency: ndarray objects are more memory-efficient because they use contiguous blocks of memory and require less overhead to store each element, unlike lists, which store references to objects.\n",
        "\n",
        "Performance: NumPy arrays are significantly faster than Python lists for large data sets because they are optimized for numerical operations and use lower-level implementations (like C).\n",
        "\n",
        "Indexing and Slicing: Both lists and ndarrays support indexing and slicing, but ndarrays provide advanced indexing capabilities, like slicing over multiple dimensions, boolean indexing, and fancy indexing.\n",
        "\n",
        "Broadcasting: ndarrays support broadcasting, allowing arrays of different shapes to be combined in element-wise operations without looping. Standard lists lack this functionality.\n",
        "Overall, ndarrays are essential for handling large datasets and performing complex mathematical operations efficiently, making them ideal for scientific computing, machine learning, and data analysis applications."
      ],
      "metadata": {
        "id": "CRPXVA4s-YA8"
      }
    },
    {
      "cell_type": "markdown",
      "source": [
        "Q.6) SOLUTION BELOW"
      ],
      "metadata": {
        "id": "IrzfxKuRATHh"
      }
    },
    {
      "cell_type": "markdown",
      "source": [
        "When working with large-scale numerical operations, using NumPy arrays instead of Python lists offers several performance advantages. Here's an analysis of why and how NumPy arrays perform better:\n",
        "\n",
        "1. Memory Efficiency\n",
        "Python Lists: Lists are collections of pointers to objects, which means each element in a list is a reference to a Python object. This design adds significant memory overhead, especially for large data. Additionally, Python lists are heterogeneous, so they have to account for different data types, leading to even more inefficiency.\n",
        "NumPy Arrays: NumPy arrays store data in contiguous blocks of memory with a fixed data type (e.g., integers or floats). This reduces memory overhead and allows efficient use of cache memory. Consequently, a NumPy array of a large number of elements occupies much less memory than an equivalent Python list, especially when all elements are of the same type.\n",
        "2. Vectorized Operations\n",
        "Python Lists: Applying an operation over each element of a list generally requires a for loop in Python. Each iteration of the loop incurs Python interpreter overhead, making large-scale operations slow.\n",
        "NumPy Arrays: NumPy allows element-wise operations directly on arrays, a feature called \"vectorization.\" Instead of looping over individual elements, NumPy applies operations on blocks of data at once using optimized C and Fortran code, which is much faster. This results in significant speed-ups for mathematical operations.\n",
        "3. Lower-Level Code Integration\n",
        "Python Lists: Python lists rely on the Python interpreter, which introduces more overhead due to its dynamic and interpreted nature. Python operations can’t be optimized as they must handle various data types.\n",
        "NumPy Arrays: NumPy is built on optimized C and Fortran libraries (like BLAS and LAPACK), so operations on arrays are executed at a much lower level than those on Python lists. This lower-level execution translates to substantial performance gains, particularly for operations like matrix multiplication, linear algebra computations, and statistical functions.\n",
        "4. Parallelization and SIMD Optimization\n",
        "Python Lists: Python’s interpreter does not natively support Single Instruction Multiple Data (SIMD) instructions or parallelized operations within lists, limiting its speed.\n",
        "NumPy Arrays: NumPy takes advantage of SIMD and multicore processing in certain operations (e.g., summing, multiplying elements) on large arrays. Many NumPy operations are parallelized, allowing them to use multiple cores for computation when possible, thereby further boosting performance on modern CPUs.\n",
        "5. Better Support for Broadcasting\n",
        "Python Lists: Applying an operation to arrays of different shapes requires explicit looping or padding, which adds complexity and time.\n",
        "NumPy Arrays: NumPy supports broadcasting, allowing it to perform operations on arrays of different shapes without extra overhead. This feature is highly beneficial for linear algebra, image processing, and scientific computing, as it reduces the need for explicit loops and complex manipulation of array shapes.\n",
        "Empirical Performance Comparison Example\n",
        "Consider a large-scale numerical operation, like adding 10 million elements in both a Python list and a NumPy array:"
      ],
      "metadata": {
        "id": "IQULImD9AWxO"
      }
    },
    {
      "cell_type": "code",
      "source": [
        "import time # Import the time module\n",
        "import numpy as np #Import the numpy module\n",
        "\n",
        "# Using Python lists\n",
        "python_list = [i for i in range(10_000_000)]\n",
        "start = time.time()\n",
        "python_list = [x + 5 for x in python_list]\n",
        "print(\"Python list time:\", time.time() - start)\n",
        "\n",
        "# Using NumPy arrays\n",
        "numpy_array = np.arange(10_000_000)\n",
        "start = time.time()\n",
        "numpy_array += 5\n",
        "print(\"NumPy array time:\", time.time() - start)"
      ],
      "metadata": {
        "colab": {
          "base_uri": "https://localhost:8080/"
        },
        "id": "-5BMvs8zAmgd",
        "outputId": "48301983-e5c7-45b5-f7c3-ae93e05dff57"
      },
      "execution_count": null,
      "outputs": [
        {
          "output_type": "stream",
          "name": "stdout",
          "text": [
            "Python list time: 0.882436990737915\n",
            "NumPy array time: 0.009286880493164062\n"
          ]
        }
      ]
    },
    {
      "cell_type": "markdown",
      "source": [
        "In this example:\n",
        "\n",
        "Python List: Requires iterating over each element in Python, resulting in slower performance.\n",
        "NumPy Array: Adds 5 to all elements at once due to vectorization, yielding a significant speed-up.\n",
        "Conclusion\n",
        "For large-scale numerical computations, NumPy arrays offer substantial performance benefits over Python lists due to:\n",
        "\n",
        "Reduced memory usage,\n",
        "\n",
        "Faster execution via vectorization,\n",
        "Efficient lower-level code integration,\n",
        "Use of parallelization and SIMD,\n",
        "Broadcasting capabilities for complex operations.\n",
        "For data-heavy applications (like machine learning, data analysis, or scientific computing), NumPy is a clear choice for performance optimization."
      ],
      "metadata": {
        "id": "y2dD2ALaAvs9"
      }
    },
    {
      "cell_type": "markdown",
      "source": [
        "Q.7) SOLUTION BELOW"
      ],
      "metadata": {
        "id": "WBtLnzOcA2N7"
      }
    },
    {
      "cell_type": "markdown",
      "source": [
        "In NumPy, vstack() and hstack() are functions used to stack arrays vertically and horizontally, respectively. They are part of the numpy module and are particularly useful for combining multiple arrays into one.\n",
        "\n",
        "1. vstack()\n",
        "Purpose: Stacks arrays in sequence vertically (row-wise).\n",
        "Input Requirements: The arrays must have the same shape along all but the first axis.\n",
        "\n",
        "\n",
        "Example:"
      ],
      "metadata": {
        "id": "SxQFO6DNA7fI"
      }
    },
    {
      "cell_type": "code",
      "source": [
        "import numpy as np\n",
        "\n",
        "# Creating two 1D arrays\n",
        "array1 = np.array([1, 2, 3])\n",
        "array2 = np.array([4, 5, 6])\n",
        "\n",
        "# Stacking vertically\n",
        "vstack_result = np.vstack((array1, array2))\n",
        "print(\"Vertical Stack (1D Arrays):\")\n",
        "print(vstack_result)\n",
        "\n",
        "# Creating two 2D arrays\n",
        "array3 = np.array([[1, 2, 3], [4, 5, 6]])\n",
        "array4 = np.array([[7, 8, 9], [10, 11, 12]])\n",
        "\n",
        "# Stacking vertically\n",
        "vstack_2d_result = np.vstack((array3, array4))\n",
        "print(\"\\nVertical Stack (2D Arrays):\")\n",
        "print(vstack_2d_result)\n"
      ],
      "metadata": {
        "colab": {
          "base_uri": "https://localhost:8080/"
        },
        "id": "egi659ykAt52",
        "outputId": "5f50d838-f9be-449a-a847-27b94a1383be"
      },
      "execution_count": null,
      "outputs": [
        {
          "output_type": "stream",
          "name": "stdout",
          "text": [
            "Vertical Stack (1D Arrays):\n",
            "[[1 2 3]\n",
            " [4 5 6]]\n",
            "\n",
            "Vertical Stack (2D Arrays):\n",
            "[[ 1  2  3]\n",
            " [ 4  5  6]\n",
            " [ 7  8  9]\n",
            " [10 11 12]]\n"
          ]
        }
      ]
    },
    {
      "cell_type": "markdown",
      "source": [
        "hstack()\n",
        "Purpose: Stacks arrays in sequence horizontally (column-wise).\n",
        "Input Requirements: The arrays must have the same shape along all but the second axis.\n",
        "\n",
        "Example:"
      ],
      "metadata": {
        "id": "BOzLSyqdBp11"
      }
    },
    {
      "cell_type": "code",
      "source": [
        "import numpy as np\n",
        "\n",
        "# Creating two 1D arrays\n",
        "array1 = np.array([1, 2, 3])\n",
        "array2 = np.array([4, 5, 6])\n",
        "\n",
        "# Stacking horizontally\n",
        "hstack_result = np.hstack((array1, array2))\n",
        "print(\"\\nHorizontal Stack (1D Arrays):\")\n",
        "print(hstack_result)\n",
        "\n",
        "# Creating two 2D arrays\n",
        "array3 = np.array([[1, 2, 3], [4, 5, 6]])\n",
        "array4 = np.array([[7, 8, 9], [10, 11, 12]])\n",
        "\n",
        "# Stacking horizontally\n",
        "hstack_2d_result = np.hstack((array3, array4))\n",
        "print(\"\\nHorizontal Stack (2D Arrays):\")\n",
        "print(hstack_2d_result)"
      ],
      "metadata": {
        "colab": {
          "base_uri": "https://localhost:8080/"
        },
        "id": "EXWPnWA9BmLo",
        "outputId": "82dfe9e1-b761-4dfe-cf7e-de792ea91996"
      },
      "execution_count": null,
      "outputs": [
        {
          "output_type": "stream",
          "name": "stdout",
          "text": [
            "\n",
            "Horizontal Stack (1D Arrays):\n",
            "[1 2 3 4 5 6]\n",
            "\n",
            "Horizontal Stack (2D Arrays):\n",
            "[[ 1  2  3  7  8  9]\n",
            " [ 4  5  6 10 11 12]]\n"
          ]
        }
      ]
    },
    {
      "cell_type": "markdown",
      "source": [
        "Q.8) SOLUTION BELOW"
      ],
      "metadata": {
        "id": "oopa2wXZB7ko"
      }
    },
    {
      "cell_type": "markdown",
      "source": [
        "In NumPy, fliplr() and flipud() are functions used to flip arrays along different axes. Here's how they differ:\n",
        "\n",
        "fliplr()-\n",
        "\n",
        "Functionality: Flips an array from left to right (horizontally).\n",
        "Applicable Dimension: Primarily affects 2D arrays (matrices), but can also be used on higher-dimensional arrays, flipping the last axis (the columns).\n"
      ],
      "metadata": {
        "id": "fUBiSXpUB-X-"
      }
    },
    {
      "cell_type": "code",
      "source": [
        "import numpy as np\n",
        "\n",
        "arr = np.array([[1, 2, 3],\n",
        "                [4, 5, 6]])\n",
        "flipped = np.fliplr(arr)\n",
        "\n"
      ],
      "metadata": {
        "id": "A1WOo0bKB4eO"
      },
      "execution_count": 1,
      "outputs": []
    },
    {
      "cell_type": "markdown",
      "source": [
        "flipud()\n",
        "\n",
        "Functionality: Flips an array from up to down (vertically).\n",
        "Applicable Dimension: Primarily affects 2D arrays, but also applies to higher-dimensional arrays by flipping along the first axis (the rows).\n"
      ],
      "metadata": {
        "id": "Gay13zqbIB3M"
      }
    },
    {
      "cell_type": "code",
      "source": [
        "import numpy as np\n",
        "\n",
        "arr = np.array([[1, 2, 3],\n",
        "                [4, 5, 6]])\n",
        "flipped = np.flipud(arr)\n",
        "\n"
      ],
      "metadata": {
        "id": "ShPG9D6SH-MI"
      },
      "execution_count": 2,
      "outputs": []
    },
    {
      "cell_type": "markdown",
      "source": [
        "Effects on Various Dimensions\n",
        "2D Arrays: The effects are straightforward as shown in the examples above.\n",
        "\n",
        "1D Arrays:\n",
        "\n",
        "fliplr() has no effect because there are no columns to flip.\n",
        "flipud() behaves the same way as np.flip() for 1D arrays, flipping the array.\n",
        "\n",
        "Higher-Dimensional Arrays:\n",
        "\n",
        "For arrays with more than 2 dimensions, both functions will apply to the respective last axes, flipping along the specified direction. For instance, if you have a 3D array, fliplr() flips the last axis while flipud() flips the first axis.\n",
        "Example of a 3D array:"
      ],
      "metadata": {
        "id": "z0HxQOAvIO6g"
      }
    },
    {
      "cell_type": "markdown",
      "source": [
        "Q.9) SOLUTION BELOW"
      ],
      "metadata": {
        "id": "dCKkr2kFIiph"
      }
    },
    {
      "cell_type": "markdown",
      "source": [
        "The array_split() method in NumPy is used to split an array into multiple sub-arrays along a specified axis. Here’s an overview of its functionality and how it handles uneven splits:\n",
        "\n",
        "Functionality of array_split()\n",
        "\n",
        "Basic Usage:\n",
        "\n",
        "The method takes an array and a number of sections (or indices) to split it into.\n",
        "It can be used with multi-dimensional arrays, specifying the axis along which to split.\n",
        "\n",
        "Syntax:"
      ],
      "metadata": {
        "id": "hrtcNEOcItY5"
      }
    },
    {
      "cell_type": "code",
      "source": [
        "numpy.array_split(ary, indices_or_sections, axis=0)\n"
      ],
      "metadata": {
        "colab": {
          "base_uri": "https://localhost:8080/",
          "height": 141
        },
        "id": "-fp6aJ8DISdT",
        "outputId": "a3866ad0-5674-4549-83a6-776801c7ad2a"
      },
      "execution_count": 5,
      "outputs": [
        {
          "output_type": "error",
          "ename": "NameError",
          "evalue": "name 'numpy' is not defined",
          "traceback": [
            "\u001b[0;31m---------------------------------------------------------------------------\u001b[0m",
            "\u001b[0;31mNameError\u001b[0m                                 Traceback (most recent call last)",
            "\u001b[0;32m<ipython-input-5-16a1832830f3>\u001b[0m in \u001b[0;36m<cell line: 1>\u001b[0;34m()\u001b[0m\n\u001b[0;32m----> 1\u001b[0;31m \u001b[0mnumpy\u001b[0m\u001b[0;34m.\u001b[0m\u001b[0marray_split\u001b[0m\u001b[0;34m(\u001b[0m\u001b[0mary\u001b[0m\u001b[0;34m,\u001b[0m \u001b[0mindices_or_sections\u001b[0m\u001b[0;34m,\u001b[0m \u001b[0maxis\u001b[0m\u001b[0;34m=\u001b[0m\u001b[0;36m0\u001b[0m\u001b[0;34m)\u001b[0m\u001b[0;34m\u001b[0m\u001b[0;34m\u001b[0m\u001b[0m\n\u001b[0m",
            "\u001b[0;31mNameError\u001b[0m: name 'numpy' is not defined"
          ]
        }
      ]
    },
    {
      "cell_type": "markdown",
      "source": [
        "ary: The input array to be split.\n",
        "indices_or_sections: The number of equal parts to split the array into or a sequence of indices at which to split.\n",
        "axis: The axis along which to split (default is 0)."
      ],
      "metadata": {
        "id": "7p3JnO1DI1ia"
      }
    },
    {
      "cell_type": "code",
      "source": [
        "import numpy as np\n",
        "\n",
        "arr = np.array([1, 2, 3, 4, 5, 6])\n",
        "result = np.array_split(arr, 3)\n"
      ],
      "metadata": {
        "id": "mx-g6lojIxtB"
      },
      "execution_count": 7,
      "outputs": []
    },
    {
      "cell_type": "markdown",
      "source": [
        "Handling Uneven Splits\n",
        "When the array cannot be evenly divided into the specified number of sections, array_split() handles this gracefully by distributing the leftover elements among the resulting sub-arrays.\n",
        "\n",
        "Example of Uneven Splits"
      ],
      "metadata": {
        "id": "m6-Sa-nXI7qY"
      }
    },
    {
      "cell_type": "code",
      "source": [
        "arr = np.array([1, 2, 3, 4, 5])\n",
        "result = np.array_split(arr, 3)\n",
        "\n"
      ],
      "metadata": {
        "id": "GWWLfw_eI4mK"
      },
      "execution_count": 8,
      "outputs": []
    },
    {
      "cell_type": "markdown",
      "source": [
        "In this case:\n",
        "\n",
        "The first two sub-arrays get 2 elements each.\n",
        "\n",
        "The last sub-array receives the remaining element."
      ],
      "metadata": {
        "id": "q1trUuhhJGCx"
      }
    },
    {
      "cell_type": "markdown",
      "source": [
        "Q.10) SOLUTION BELOW"
      ],
      "metadata": {
        "id": "fEOSBZUaJJhR"
      }
    },
    {
      "cell_type": "markdown",
      "source": [
        "Vectorization and broadcasting are two key concepts in NumPy that greatly enhance the efficiency of array operations. Here’s a detailed explanation of each:\n",
        "\n",
        "Vectorization\n",
        "Concept:\n",
        " Vectorization refers to the process of replacing explicit loops with array operations. Instead of iterating through array elements one at a time using Python loops, you can perform operations on entire arrays at once.\n",
        "\n",
        "Benefits:\n",
        "\n",
        "Performance:\n",
        "\n",
        " Vectorized operations are typically implemented in compiled C code, making them much faster than equivalent operations performed with Python loops.\n",
        "Simplicity: Code becomes cleaner and easier to read. You can express operations in a more mathematical way, closely resembling the notation you would use in linear algebra."
      ],
      "metadata": {
        "id": "LvkTWZSDJTE5"
      }
    },
    {
      "cell_type": "code",
      "source": [
        "import numpy as np\n",
        "\n",
        "# Using a loop\n",
        "arr = np.array([1, 2, 3, 4])\n",
        "squared = np.empty(arr.shape)\n",
        "for i in range(len(arr)):\n",
        "    squared[i] = arr[i] ** 2\n",
        "\n",
        "# Vectorized operation\n",
        "squared_vectorized = arr ** 2\n",
        "\n"
      ],
      "metadata": {
        "id": "4kgXycVhJDPO"
      },
      "execution_count": 9,
      "outputs": []
    },
    {
      "cell_type": "markdown",
      "source": [
        "Broadcasting\n",
        "Concept: Broadcasting is a technique that allows NumPy to perform arithmetic operations on arrays of different shapes. It automatically expands the smaller array across the larger array’s dimensions to make their shapes compatible for element-wise operations.\n",
        "\n",
        "How It Works:\n",
        "\n",
        "Compatibility: Two arrays can be broadcast together if their shapes are compatible. Specifically, the dimensions must either be equal or one of them must be 1.\n",
        "Expansion: When performing operations, NumPy automatically \"stretches\" the smaller array across the larger one, creating a temporary array that matches the shape of the larger array for the operation.\n",
        "Example:"
      ],
      "metadata": {
        "id": "W1YWec1eJfj4"
      }
    },
    {
      "cell_type": "code",
      "source": [
        "import numpy as np\n",
        "\n",
        "# A 2D array and a 1D array\n",
        "arr_2d = np.array([[1, 2, 3],\n",
        "                   [4, 5, 6]])\n",
        "arr_1d = np.array([10, 20, 30])\n",
        "\n",
        "# Broadcasting\n",
        "result = arr_2d + arr_1d\n",
        "\n"
      ],
      "metadata": {
        "id": "TrZfoq0XJcVp"
      },
      "execution_count": 10,
      "outputs": []
    },
    {
      "cell_type": "markdown",
      "source": [
        "In this example, arr_1d is broadcast to match the shape of arr_2d, allowing for the addition to occur element-wise.\n",
        "\n",
        "Contributions to Efficient Array Operations\n",
        "Reduced Computational Overhead: Vectorized operations eliminate the need for explicit loops, which can be slow due to Python’s interpreted nature. This leads to significant performance improvements.\n",
        "\n",
        "Memory Efficiency: Broadcasting allows for operations without creating large intermediate arrays, as it uses existing data in memory more effectively.\n",
        "\n",
        "Simplified Code: Both vectorization and broadcasting lead to clearer, more concise code that is easier to maintain and understand.\n",
        "\n",
        "Support for Complex Operations: They enable the handling of complex mathematical operations over arrays, making NumPy a powerful tool for scientific computing, data analysis, and machine learning."
      ],
      "metadata": {
        "id": "Oo8M6chzJn1l"
      }
    },
    {
      "cell_type": "markdown",
      "source": [
        "PRACTICAL QUESTIONS ."
      ],
      "metadata": {
        "id": "A0jRZh1LJpiv"
      }
    },
    {
      "cell_type": "markdown",
      "source": [
        "Q.1 SOLUTION BELOW"
      ],
      "metadata": {
        "id": "4E0IUPnRJ6-P"
      }
    },
    {
      "cell_type": "code",
      "source": [
        "import numpy as np\n",
        "\n",
        "# Create a 3x3 array with random integers between 1 and 100\n",
        "array = np.random.randint(1, 101, size=(3, 3))\n",
        "\n",
        "# Print the original array\n",
        "print(\"Original Array:\")\n",
        "print(array)\n",
        "\n",
        "# Interchange rows and columns (transpose the array)\n",
        "transposed_array = array.T\n",
        "\n",
        "# Print the transposed array\n",
        "print(\"\\nTransposed Array:\")\n",
        "print(transposed_array)\n"
      ],
      "metadata": {
        "colab": {
          "base_uri": "https://localhost:8080/"
        },
        "id": "JKYDSjhdJ4UV",
        "outputId": "578bc160-e6d9-447b-8620-dec77774cea7"
      },
      "execution_count": 12,
      "outputs": [
        {
          "output_type": "stream",
          "name": "stdout",
          "text": [
            "Original Array:\n",
            "[[88 82 61]\n",
            " [52 37  3]\n",
            " [37  1 67]]\n",
            "\n",
            "Transposed Array:\n",
            "[[88 52 37]\n",
            " [82 37  1]\n",
            " [61  3 67]]\n"
          ]
        }
      ]
    },
    {
      "cell_type": "markdown",
      "source": [
        "Q.2) SOLUTION BELOW"
      ],
      "metadata": {
        "id": "uLxV7vSkJ-pg"
      }
    },
    {
      "cell_type": "code",
      "source": [
        "import numpy as np\n",
        "\n",
        "# Generate a 1D array with 10 elements\n",
        "array_1d = np.arange(10)  # This will create an array with values from 0 to 9\n",
        "\n",
        "# Print the original 1D array\n",
        "print(\"Original 1D Array:\")\n",
        "print(array_1d)\n",
        "\n",
        "# Reshape into a 2x5 array\n",
        "array_2x5 = array_1d.reshape(2, 5)\n",
        "\n",
        "# Print the 2x5 array\n",
        "print(\"\\nReshaped to 2x5 Array:\")\n",
        "print(array_2x5)\n",
        "\n",
        "# Reshape into a 5x2 array\n",
        "array_5x2 = array_1d.reshape(5, 2)\n",
        "\n",
        "# Print the 5x2 array\n",
        "print(\"\\nReshaped to 5x2 Array:\")\n",
        "print(array_5x2)\n"
      ],
      "metadata": {
        "colab": {
          "base_uri": "https://localhost:8080/"
        },
        "id": "V47OH25DJ9ll",
        "outputId": "84e9682b-911e-4e3d-8a2c-946e0d68fce0"
      },
      "execution_count": 13,
      "outputs": [
        {
          "output_type": "stream",
          "name": "stdout",
          "text": [
            "Original 1D Array:\n",
            "[0 1 2 3 4 5 6 7 8 9]\n",
            "\n",
            "Reshaped to 2x5 Array:\n",
            "[[0 1 2 3 4]\n",
            " [5 6 7 8 9]]\n",
            "\n",
            "Reshaped to 5x2 Array:\n",
            "[[0 1]\n",
            " [2 3]\n",
            " [4 5]\n",
            " [6 7]\n",
            " [8 9]]\n"
          ]
        }
      ]
    },
    {
      "cell_type": "markdown",
      "source": [
        "Q.3) SOLUTION BELOW"
      ],
      "metadata": {
        "id": "9anjvGmaKKIw"
      }
    },
    {
      "cell_type": "code",
      "source": [
        "import numpy as np\n",
        "\n",
        "# Create a 4x4 array with random float values\n",
        "array_4x4 = np.random.rand(4, 4)\n",
        "\n",
        "# Print the original 4x4 array\n",
        "print(\"Original 4x4 Array:\")\n",
        "print(array_4x4)\n",
        "\n",
        "# Add a border of zeros around the array\n",
        "array_6x6 = np.pad(array_4x4, pad_width=1, mode='constant', constant_values=0)\n",
        "\n",
        "# Print the resulting 6x6 array\n",
        "print(\"\\n6x6 Array with Zero Border:\")\n",
        "print(array_6x6)\n"
      ],
      "metadata": {
        "colab": {
          "base_uri": "https://localhost:8080/"
        },
        "id": "xM-7V5FzKIqp",
        "outputId": "4bed54f4-e2d1-4150-a35d-1bb29d5d85ac"
      },
      "execution_count": 14,
      "outputs": [
        {
          "output_type": "stream",
          "name": "stdout",
          "text": [
            "Original 4x4 Array:\n",
            "[[0.88066603 0.76912034 0.51743317 0.5407371 ]\n",
            " [0.28258966 0.57629534 0.52454631 0.6196202 ]\n",
            " [0.81718093 0.13339302 0.27028783 0.6828639 ]\n",
            " [0.74580523 0.52675605 0.692199   0.41738358]]\n",
            "\n",
            "6x6 Array with Zero Border:\n",
            "[[0.         0.         0.         0.         0.         0.        ]\n",
            " [0.         0.88066603 0.76912034 0.51743317 0.5407371  0.        ]\n",
            " [0.         0.28258966 0.57629534 0.52454631 0.6196202  0.        ]\n",
            " [0.         0.81718093 0.13339302 0.27028783 0.6828639  0.        ]\n",
            " [0.         0.74580523 0.52675605 0.692199   0.41738358 0.        ]\n",
            " [0.         0.         0.         0.         0.         0.        ]]\n"
          ]
        }
      ]
    },
    {
      "cell_type": "markdown",
      "source": [
        "Q.4) SOUTION BELOW"
      ],
      "metadata": {
        "id": "Jr7MTi9lKYPA"
      }
    },
    {
      "cell_type": "code",
      "source": [
        "import numpy as np\n",
        "\n",
        "# Create an array of integers from 10 to 60 with a step of 5\n",
        "array = np.arange(10, 61, 5)\n",
        "\n",
        "# Print the resulting array\n",
        "print(array)\n"
      ],
      "metadata": {
        "colab": {
          "base_uri": "https://localhost:8080/"
        },
        "id": "2QoqYYiEKSIr",
        "outputId": "3e937558-a8f6-40d7-8a32-c107a5aeb1eb"
      },
      "execution_count": 15,
      "outputs": [
        {
          "output_type": "stream",
          "name": "stdout",
          "text": [
            "[10 15 20 25 30 35 40 45 50 55 60]\n"
          ]
        }
      ]
    },
    {
      "cell_type": "markdown",
      "source": [
        "Q.5) SOLUTION BELOW"
      ],
      "metadata": {
        "id": "aMYBIt2QKdcf"
      }
    },
    {
      "cell_type": "code",
      "source": [
        "import numpy as np\n",
        "\n",
        "# Create a NumPy array of strings\n",
        "array = np.array(['python', 'numpy', 'pandas'])\n",
        "\n",
        "# Apply different case transformations\n",
        "uppercase = np.char.upper(array)    # Uppercase\n",
        "lowercase = np.char.lower(array)    # Lowercase\n",
        "titlecase = np.char.title(array)    # Title case\n",
        "capitalize = np.char.capitalize(array)  # Capitalize\n",
        "\n",
        "# Print the results\n",
        "print(\"Original Array:\")\n",
        "print(array)\n",
        "print(\"\\nUppercase:\")\n",
        "print(uppercase)\n",
        "print(\"\\nLowercase:\")\n",
        "print(lowercase)\n",
        "print(\"\\nTitle Case:\")\n",
        "print(titlecase)\n",
        "print(\"\\nCapitalized:\")\n",
        "print(capitalize)\n"
      ],
      "metadata": {
        "colab": {
          "base_uri": "https://localhost:8080/"
        },
        "id": "Kbd_MfXEKcWz",
        "outputId": "d255ac2d-aa09-4587-e6ba-f6c01d50dbfc"
      },
      "execution_count": 16,
      "outputs": [
        {
          "output_type": "stream",
          "name": "stdout",
          "text": [
            "Original Array:\n",
            "['python' 'numpy' 'pandas']\n",
            "\n",
            "Uppercase:\n",
            "['PYTHON' 'NUMPY' 'PANDAS']\n",
            "\n",
            "Lowercase:\n",
            "['python' 'numpy' 'pandas']\n",
            "\n",
            "Title Case:\n",
            "['Python' 'Numpy' 'Pandas']\n",
            "\n",
            "Capitalized:\n",
            "['Python' 'Numpy' 'Pandas']\n"
          ]
        }
      ]
    },
    {
      "cell_type": "markdown",
      "source": [
        "Q.6) SOLUTION BELOW"
      ],
      "metadata": {
        "id": "R_EvQV14Kpn4"
      }
    },
    {
      "cell_type": "code",
      "source": [
        "import numpy as np\n",
        "\n",
        "# Create a NumPy array of words\n",
        "words = np.array(['hello', 'numpy', 'python', 'data'])\n",
        "\n",
        "# Insert a space between each character of every word\n",
        "spaced_words = np.array([' '.join(word) for word in words])\n",
        "\n",
        "# Print the original and modified arrays\n",
        "print(\"Original Array:\")\n",
        "print(words)\n",
        "print(\"\\nArray with Spaces Between Characters:\")\n",
        "print(spaced_words)\n"
      ],
      "metadata": {
        "colab": {
          "base_uri": "https://localhost:8080/"
        },
        "id": "ufN9ybJpKoGr",
        "outputId": "57931c04-a16b-4510-a656-80a3383bb586"
      },
      "execution_count": 17,
      "outputs": [
        {
          "output_type": "stream",
          "name": "stdout",
          "text": [
            "Original Array:\n",
            "['hello' 'numpy' 'python' 'data']\n",
            "\n",
            "Array with Spaces Between Characters:\n",
            "['h e l l o' 'n u m p y' 'p y t h o n' 'd a t a']\n"
          ]
        }
      ]
    },
    {
      "cell_type": "markdown",
      "source": [
        "Q.7) SOLUTION BELOW"
      ],
      "metadata": {
        "id": "cpWLrSjbKxbP"
      }
    },
    {
      "cell_type": "code",
      "source": [
        "import numpy as np\n",
        "\n",
        "# Create two 2D NumPy arrays\n",
        "array1 = np.array([[1, 2, 3], [4, 5, 6]])\n",
        "array2 = np.array([[7, 8, 9], [10, 11, 12]])\n",
        "\n",
        "# Perform element-wise addition\n",
        "addition = array1 + array2\n",
        "\n",
        "# Perform element-wise subtraction\n",
        "subtraction = array1 - array2\n",
        "\n",
        "# Perform element-wise multiplication\n",
        "multiplication = array1 * array2\n",
        "\n",
        "# Perform element-wise division\n",
        "division = array1 / array2\n",
        "\n",
        "# Print the results\n",
        "print(\"Array 1:\")\n",
        "print(array1)\n",
        "print(\"\\nArray 2:\")\n",
        "print(array2)\n",
        "\n",
        "print(\"\\nElement-wise Addition:\")\n",
        "print(addition)\n",
        "\n",
        "print(\"\\nElement-wise Subtraction:\")\n",
        "print(subtraction)\n",
        "\n",
        "print(\"\\nElement-wise Multiplication:\")\n",
        "print(multiplication)\n",
        "\n",
        "print(\"\\nElement-wise Division:\")\n",
        "print(division)\n"
      ],
      "metadata": {
        "colab": {
          "base_uri": "https://localhost:8080/"
        },
        "id": "_P_z010DKwSG",
        "outputId": "1b4b7d98-0667-4a54-de81-8180e7f6469a"
      },
      "execution_count": 18,
      "outputs": [
        {
          "output_type": "stream",
          "name": "stdout",
          "text": [
            "Array 1:\n",
            "[[1 2 3]\n",
            " [4 5 6]]\n",
            "\n",
            "Array 2:\n",
            "[[ 7  8  9]\n",
            " [10 11 12]]\n",
            "\n",
            "Element-wise Addition:\n",
            "[[ 8 10 12]\n",
            " [14 16 18]]\n",
            "\n",
            "Element-wise Subtraction:\n",
            "[[-6 -6 -6]\n",
            " [-6 -6 -6]]\n",
            "\n",
            "Element-wise Multiplication:\n",
            "[[ 7 16 27]\n",
            " [40 55 72]]\n",
            "\n",
            "Element-wise Division:\n",
            "[[0.14285714 0.25       0.33333333]\n",
            " [0.4        0.45454545 0.5       ]]\n"
          ]
        }
      ]
    },
    {
      "cell_type": "markdown",
      "source": [
        "Q.8) SOLUTION BELOW"
      ],
      "metadata": {
        "id": "5Q_pERe0K7i_"
      }
    },
    {
      "cell_type": "code",
      "source": [
        "import numpy as np\n",
        "\n",
        "# Create a 5x5 identity matrix\n",
        "identity_matrix = np.eye(5)\n",
        "\n",
        "# Extract the diagonal elements\n",
        "diagonal_elements = np.diagonal(identity_matrix)\n",
        "\n",
        "# Print the identity matrix and its diagonal elements\n",
        "print(\"5x5 Identity Matrix:\")\n",
        "print(identity_matrix)\n",
        "\n",
        "print(\"\\nDiagonal Elements:\")\n",
        "print(diagonal_elements)\n"
      ],
      "metadata": {
        "colab": {
          "base_uri": "https://localhost:8080/"
        },
        "id": "WQNwcAF1K6Rk",
        "outputId": "42442345-cc7b-4704-aaef-1edc62a6b1da"
      },
      "execution_count": 19,
      "outputs": [
        {
          "output_type": "stream",
          "name": "stdout",
          "text": [
            "5x5 Identity Matrix:\n",
            "[[1. 0. 0. 0. 0.]\n",
            " [0. 1. 0. 0. 0.]\n",
            " [0. 0. 1. 0. 0.]\n",
            " [0. 0. 0. 1. 0.]\n",
            " [0. 0. 0. 0. 1.]]\n",
            "\n",
            "Diagonal Elements:\n",
            "[1. 1. 1. 1. 1.]\n"
          ]
        }
      ]
    },
    {
      "cell_type": "markdown",
      "source": [
        "Q.9) SOLUTION BELOW"
      ],
      "metadata": {
        "id": "q-qhwqR5LEs-"
      }
    },
    {
      "cell_type": "code",
      "source": [
        "import numpy as np\n",
        "\n",
        "# Function to check if a number is prime\n",
        "def is_prime(n):\n",
        "    if n <= 1:\n",
        "        return False\n",
        "    for i in range(2, int(n**0.5) + 1):\n",
        "        if n % i == 0:\n",
        "            return False\n",
        "    return True\n",
        "\n",
        "# Generate a NumPy array of 100 random integers between 0 and 1000\n",
        "random_integers = np.random.randint(0, 1001, size=100)\n",
        "\n",
        "# Find all prime numbers in the array\n",
        "prime_numbers = [num for num in random_integers if is_prime(num)]\n",
        "\n",
        "# Print the array and the prime numbers found\n",
        "print(\"Random Integers Array:\")\n",
        "print(random_integers)\n",
        "\n",
        "print(\"\\nPrime Numbers in the Array:\")\n",
        "print(prime_numbers)\n"
      ],
      "metadata": {
        "colab": {
          "base_uri": "https://localhost:8080/"
        },
        "id": "p3GMUbtaLD20",
        "outputId": "7a55177d-3540-417f-8ed4-e97fc49ef345"
      },
      "execution_count": 20,
      "outputs": [
        {
          "output_type": "stream",
          "name": "stdout",
          "text": [
            "Random Integers Array:\n",
            "[998 482  69 738 788 859  39 405 343 449 815 454 663 531 370 143 640 279\n",
            " 879 144 682 173 111 517 305 191 740 202 882 261 565 252 138 833 265 424\n",
            " 294  62 590 624 644  58  43 308 329 943 115 751 978 196 311 226  44 755\n",
            " 759 652 445 782  84 927  47 428 404 530 846 517 824 854 495 472 877 356\n",
            "  93 530 882 495 804 695 202 226 864 895 975 756  44 266 861 339 575 557\n",
            " 327  14 796 134 989 612 367 962 155 601]\n",
            "\n",
            "Prime Numbers in the Array:\n",
            "[859, 449, 173, 191, 43, 751, 311, 47, 877, 557, 367, 601]\n"
          ]
        }
      ]
    },
    {
      "cell_type": "markdown",
      "source": [
        "Q.10) SOLTUIN BELOW"
      ],
      "metadata": {
        "id": "i7ySs450LYvb"
      }
    },
    {
      "cell_type": "code",
      "source": [
        "import numpy as np\n",
        "\n",
        "# Create a NumPy array representing daily temperatures for a month (30 days)\n",
        "# For example, let's use random temperatures between 15 and 35 degrees Celsius\n",
        "daily_temperatures = np.random.randint(15, 36, size=30)\n",
        "\n",
        "# Print the daily temperatures\n",
        "print(\"Daily Temperatures for the Month:\")\n",
        "print(daily_temperatures)\n",
        "\n",
        "# Reshape the array into a format that is compatible with the data size\n",
        "# Since we have 30 days, we can reshape it into a 5x6 or 6x5 matrix, for instance.\n",
        "# Here, we reshape it into a 5x6 matrix (5 weeks, 6 days per week)\n",
        "weeks = daily_temperatures.reshape(5, 6)\n",
        "\n",
        "# Calculate weekly averages\n",
        "weekly_averages = np.mean(weeks, axis=1)\n",
        "\n",
        "# Print the weekly averages\n",
        "print(\"\\nWeekly Averages:\")\n",
        "print(weekly_averages)"
      ],
      "metadata": {
        "colab": {
          "base_uri": "https://localhost:8080/"
        },
        "id": "vf4hQPk5LoRo",
        "outputId": "ab09c2ab-59c8-4fcc-ef55-26d853938cf0"
      },
      "execution_count": 23,
      "outputs": [
        {
          "output_type": "stream",
          "name": "stdout",
          "text": [
            "Daily Temperatures for the Month:\n",
            "[33 18 34 20 25 29 29 27 23 19 21 24 23 26 17 29 29 19 22 18 26 31 26 17\n",
            " 25 24 18 25 28 26]\n",
            "\n",
            "Weekly Averages:\n",
            "[26.5        23.83333333 23.83333333 23.33333333 24.33333333]\n"
          ]
        }
      ]
    },
    {
      "cell_type": "code",
      "source": [],
      "metadata": {
        "id": "Apd3oKG-LyYa"
      },
      "execution_count": null,
      "outputs": []
    }
  ]
}